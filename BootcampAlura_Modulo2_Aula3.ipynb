{
  "nbformat": 4,
  "nbformat_minor": 0,
  "metadata": {
    "colab": {
      "name": "BootcampAlura",
      "provenance": [],
      "authorship_tag": "ABX9TyN4xnHLXhSwQn3raceSh8wN",
      "include_colab_link": true
    },
    "kernelspec": {
      "name": "python3",
      "display_name": "Python 3"
    },
    "language_info": {
      "name": "python"
    }
  },
  "cells": [
    {
      "cell_type": "markdown",
      "metadata": {
        "id": "view-in-github",
        "colab_type": "text"
      },
      "source": [
        "<a href=\"https://colab.research.google.com/github/ViniciusCastillo/Aprendendo/blob/master/BootcampAlura_Modulo2_Aula3.ipynb\" target=\"_parent\"><img src=\"https://colab.research.google.com/assets/colab-badge.svg\" alt=\"Open In Colab\"/></a>"
      ]
    },
    {
      "cell_type": "markdown",
      "metadata": {
        "id": "j-tQZ2nCVv2b"
      },
      "source": [
        "Analise dos valores de procedimetnos do Data SUS "
      ]
    },
    {
      "cell_type": "code",
      "metadata": {
        "id": "86To86oNW12S"
      },
      "source": [
        "# importando as bibliotecas\n",
        "import pandas as pd\n",
        "import matplotlib.pyplot as plt\n",
        "import matplotlib.ticker as ticker\n",
        "import numpy as np\n",
        "# configurando formato de apresentação de números\n",
        "pd.options.display.float_format = \"{:,.2f}\".format\n"
      ],
      "execution_count": 1,
      "outputs": []
    },
    {
      "cell_type": "code",
      "metadata": {
        "id": "_wxxoJ7hW-JL"
      },
      "source": [
        "# configurando cores de fundo dos gráfico\n",
        "plt.rcParams['figure.facecolor'] = 'black'\n",
        "plt.rcParams['ytick.color'] = 'white'\n",
        "plt.rcParams['xtick.color'] = 'white'\n",
        "plt.rcParams['legend.edgecolor'] = 'grey'\n",
        "plt.rcParams['legend.facecolor'] = 'white'\n",
        "plt.rcParams['text.color'] = 'black'"
      ],
      "execution_count": 2,
      "outputs": []
    },
    {
      "cell_type": "code",
      "metadata": {
        "colab": {
          "base_uri": "https://localhost:8080/",
          "height": 950
        },
        "id": "lby8LD3bsi9r",
        "outputId": "c8de81d0-3509-42dd-cd63-b1f47508d9e6"
      },
      "source": [
        "# preparando a base: lendo arquivo, incluindo região e ajustando nome dos estados\n",
        "# importando os números\n",
        "dados = pd.read_csv(\"https://raw.githubusercontent.com/ViniciusCastillo/Aprendendo/master/A165345189_28_143_208.csv\", encoding=\"ISO-8859-1\", skiprows=3, skipfooter=12, sep=\";\", thousands=\".\", decimal=\",\")\n",
        "# criando o campo do códgio da região\n",
        "dados[\"Cod_Região\"]=dados[\"Unidade da Federação\"].str[0]\n",
        "# inclui os nomes das regiões\n",
        "Base_regioes = pd.DataFrame({\"Cod\":[\"1\",\"2\",\"3\",\"4\",\"5\"],\"Região\":[\"Norte\",\"Nordeste\",\"Sudeste\",\"Sul\",\"Centro-Oeste\"]}, columns=[\"Cod\",\"Região\"])\n",
        "Base_regioes = Base_regioes.set_index(\"Cod\")\n",
        "# inclui os nomes das regiões em dados\n",
        "dados = dados.join(Base_regioes, on=\"Cod_Região\")\n",
        "# retirando os números de antes do nome dos estados\n",
        "dados[\"Unidade da Federação\"] = dados[\"Unidade da Federação\"].str.replace(\"\\d+\", \"\")\n",
        "dados[\"Unidade da Federação\"] = dados[\"Unidade da Federação\"].str.strip()\n",
        "#verificando a marcação de Região\n",
        "dados[[\"Região\",\"Unidade da Federação\",\"Total\"]]"
      ],
      "execution_count": 3,
      "outputs": [
        {
          "output_type": "stream",
          "name": "stderr",
          "text": [
            "/usr/local/lib/python3.7/dist-packages/ipykernel_launcher.py:3: ParserWarning: Falling back to the 'python' engine because the 'c' engine does not support skipfooter; you can avoid this warning by specifying engine='python'.\n",
            "  This is separate from the ipykernel package so we can avoid doing imports until\n"
          ]
        },
        {
          "output_type": "execute_result",
          "data": {
            "text/html": [
              "<div>\n",
              "<style scoped>\n",
              "    .dataframe tbody tr th:only-of-type {\n",
              "        vertical-align: middle;\n",
              "    }\n",
              "\n",
              "    .dataframe tbody tr th {\n",
              "        vertical-align: top;\n",
              "    }\n",
              "\n",
              "    .dataframe thead th {\n",
              "        text-align: right;\n",
              "    }\n",
              "</style>\n",
              "<table border=\"1\" class=\"dataframe\">\n",
              "  <thead>\n",
              "    <tr style=\"text-align: right;\">\n",
              "      <th></th>\n",
              "      <th>Região</th>\n",
              "      <th>Unidade da Federação</th>\n",
              "      <th>Total</th>\n",
              "    </tr>\n",
              "  </thead>\n",
              "  <tbody>\n",
              "    <tr>\n",
              "      <th>0</th>\n",
              "      <td>Norte</td>\n",
              "      <td>Rondônia</td>\n",
              "      <td>1,073,782,138.81</td>\n",
              "    </tr>\n",
              "    <tr>\n",
              "      <th>1</th>\n",
              "      <td>Norte</td>\n",
              "      <td>Acre</td>\n",
              "      <td>475,290,315.34</td>\n",
              "    </tr>\n",
              "    <tr>\n",
              "      <th>2</th>\n",
              "      <td>Norte</td>\n",
              "      <td>Amazonas</td>\n",
              "      <td>2,041,003,727.86</td>\n",
              "    </tr>\n",
              "    <tr>\n",
              "      <th>3</th>\n",
              "      <td>Norte</td>\n",
              "      <td>Roraima</td>\n",
              "      <td>349,395,453.66</td>\n",
              "    </tr>\n",
              "    <tr>\n",
              "      <th>4</th>\n",
              "      <td>Norte</td>\n",
              "      <td>Pará</td>\n",
              "      <td>4,950,135,530.02</td>\n",
              "    </tr>\n",
              "    <tr>\n",
              "      <th>5</th>\n",
              "      <td>Norte</td>\n",
              "      <td>Amapá</td>\n",
              "      <td>326,885,943.09</td>\n",
              "    </tr>\n",
              "    <tr>\n",
              "      <th>6</th>\n",
              "      <td>Norte</td>\n",
              "      <td>Tocantins</td>\n",
              "      <td>1,109,478,655.20</td>\n",
              "    </tr>\n",
              "    <tr>\n",
              "      <th>7</th>\n",
              "      <td>Nordeste</td>\n",
              "      <td>Maranhão</td>\n",
              "      <td>4,120,818,450.35</td>\n",
              "    </tr>\n",
              "    <tr>\n",
              "      <th>8</th>\n",
              "      <td>Nordeste</td>\n",
              "      <td>Piauí</td>\n",
              "      <td>2,426,540,822.88</td>\n",
              "    </tr>\n",
              "    <tr>\n",
              "      <th>9</th>\n",
              "      <td>Nordeste</td>\n",
              "      <td>Ceará</td>\n",
              "      <td>7,018,565,512.36</td>\n",
              "    </tr>\n",
              "    <tr>\n",
              "      <th>10</th>\n",
              "      <td>Nordeste</td>\n",
              "      <td>Rio Grande do Norte</td>\n",
              "      <td>2,841,810,193.28</td>\n",
              "    </tr>\n",
              "    <tr>\n",
              "      <th>11</th>\n",
              "      <td>Nordeste</td>\n",
              "      <td>Paraíba</td>\n",
              "      <td>2,771,097,790.23</td>\n",
              "    </tr>\n",
              "    <tr>\n",
              "      <th>12</th>\n",
              "      <td>Nordeste</td>\n",
              "      <td>Pernambuco</td>\n",
              "      <td>9,158,772,923.80</td>\n",
              "    </tr>\n",
              "    <tr>\n",
              "      <th>13</th>\n",
              "      <td>Nordeste</td>\n",
              "      <td>Alagoas</td>\n",
              "      <td>2,374,078,074.30</td>\n",
              "    </tr>\n",
              "    <tr>\n",
              "      <th>14</th>\n",
              "      <td>Nordeste</td>\n",
              "      <td>Sergipe</td>\n",
              "      <td>1,301,739,523.26</td>\n",
              "    </tr>\n",
              "    <tr>\n",
              "      <th>15</th>\n",
              "      <td>Nordeste</td>\n",
              "      <td>Bahia</td>\n",
              "      <td>10,396,517,385.12</td>\n",
              "    </tr>\n",
              "    <tr>\n",
              "      <th>16</th>\n",
              "      <td>Sudeste</td>\n",
              "      <td>Minas Gerais</td>\n",
              "      <td>21,686,537,563.06</td>\n",
              "    </tr>\n",
              "    <tr>\n",
              "      <th>17</th>\n",
              "      <td>Sudeste</td>\n",
              "      <td>Espírito Santo</td>\n",
              "      <td>3,671,697,092.18</td>\n",
              "    </tr>\n",
              "    <tr>\n",
              "      <th>18</th>\n",
              "      <td>Sudeste</td>\n",
              "      <td>Rio de Janeiro</td>\n",
              "      <td>10,993,039,082.99</td>\n",
              "    </tr>\n",
              "    <tr>\n",
              "      <th>19</th>\n",
              "      <td>Sudeste</td>\n",
              "      <td>São Paulo</td>\n",
              "      <td>43,574,026,670.18</td>\n",
              "    </tr>\n",
              "    <tr>\n",
              "      <th>20</th>\n",
              "      <td>Sul</td>\n",
              "      <td>Paraná</td>\n",
              "      <td>15,549,592,061.14</td>\n",
              "    </tr>\n",
              "    <tr>\n",
              "      <th>21</th>\n",
              "      <td>Sul</td>\n",
              "      <td>Santa Catarina</td>\n",
              "      <td>8,291,935,822.45</td>\n",
              "    </tr>\n",
              "    <tr>\n",
              "      <th>22</th>\n",
              "      <td>Sul</td>\n",
              "      <td>Rio Grande do Sul</td>\n",
              "      <td>13,503,186,692.64</td>\n",
              "    </tr>\n",
              "    <tr>\n",
              "      <th>23</th>\n",
              "      <td>Centro-Oeste</td>\n",
              "      <td>Mato Grosso do Sul</td>\n",
              "      <td>2,485,179,285.34</td>\n",
              "    </tr>\n",
              "    <tr>\n",
              "      <th>24</th>\n",
              "      <td>Centro-Oeste</td>\n",
              "      <td>Mato Grosso</td>\n",
              "      <td>2,356,737,844.98</td>\n",
              "    </tr>\n",
              "    <tr>\n",
              "      <th>25</th>\n",
              "      <td>Centro-Oeste</td>\n",
              "      <td>Goiás</td>\n",
              "      <td>5,311,850,260.26</td>\n",
              "    </tr>\n",
              "    <tr>\n",
              "      <th>26</th>\n",
              "      <td>Centro-Oeste</td>\n",
              "      <td>Distrito Federal</td>\n",
              "      <td>2,749,946,630.81</td>\n",
              "    </tr>\n",
              "  </tbody>\n",
              "</table>\n",
              "</div>"
            ],
            "text/plain": [
              "          Região Unidade da Federação             Total\n",
              "0          Norte             Rondônia  1,073,782,138.81\n",
              "1          Norte                 Acre    475,290,315.34\n",
              "2          Norte             Amazonas  2,041,003,727.86\n",
              "3          Norte              Roraima    349,395,453.66\n",
              "4          Norte                 Pará  4,950,135,530.02\n",
              "5          Norte                Amapá    326,885,943.09\n",
              "6          Norte            Tocantins  1,109,478,655.20\n",
              "7       Nordeste             Maranhão  4,120,818,450.35\n",
              "8       Nordeste                Piauí  2,426,540,822.88\n",
              "9       Nordeste                Ceará  7,018,565,512.36\n",
              "10      Nordeste  Rio Grande do Norte  2,841,810,193.28\n",
              "11      Nordeste              Paraíba  2,771,097,790.23\n",
              "12      Nordeste           Pernambuco  9,158,772,923.80\n",
              "13      Nordeste              Alagoas  2,374,078,074.30\n",
              "14      Nordeste              Sergipe  1,301,739,523.26\n",
              "15      Nordeste                Bahia 10,396,517,385.12\n",
              "16       Sudeste         Minas Gerais 21,686,537,563.06\n",
              "17       Sudeste       Espírito Santo  3,671,697,092.18\n",
              "18       Sudeste       Rio de Janeiro 10,993,039,082.99\n",
              "19       Sudeste            São Paulo 43,574,026,670.18\n",
              "20           Sul               Paraná 15,549,592,061.14\n",
              "21           Sul       Santa Catarina  8,291,935,822.45\n",
              "22           Sul    Rio Grande do Sul 13,503,186,692.64\n",
              "23  Centro-Oeste   Mato Grosso do Sul  2,485,179,285.34\n",
              "24  Centro-Oeste          Mato Grosso  2,356,737,844.98\n",
              "25  Centro-Oeste                Goiás  5,311,850,260.26\n",
              "26  Centro-Oeste     Distrito Federal  2,749,946,630.81"
            ]
          },
          "metadata": {},
          "execution_count": 3
        }
      ]
    },
    {
      "cell_type": "code",
      "metadata": {
        "colab": {
          "base_uri": "https://localhost:8080/"
        },
        "id": "l33Xgckj5Kmg",
        "outputId": "a067ae31-f5fd-4780-d6aa-cb083a45499e"
      },
      "source": [
        "#selecionando as colunas\n",
        "# selecionando apenas colunas com valores para todas as linhas\n",
        "col_usaveis = dados.mean().index.tolist()\n",
        "# adicionando coluna não numérica com os titulos das linhas\n",
        "col_usaveis.insert(0, \"Unidade da Federação\")\n",
        "# excluindo a coluna TOTAL e Cod_Região\n",
        "del col_usaveis[-2:]\n",
        "# excluindo colunas iniciais com valores distorcidos\n",
        "del col_usaveis[1:7]\n",
        "# confirmando se realmente foram excluidas\n",
        "# col_usaveis[-5:]\n",
        "col_usaveis[:5]"
      ],
      "execution_count": 4,
      "outputs": [
        {
          "output_type": "execute_result",
          "data": {
            "text/plain": [
              "['Unidade da Federação', '2008/Fev', '2008/Mar', '2008/Abr', '2008/Mai']"
            ]
          },
          "metadata": {},
          "execution_count": 4
        }
      ]
    },
    {
      "cell_type": "code",
      "metadata": {
        "colab": {
          "base_uri": "https://localhost:8080/",
          "height": 237
        },
        "id": "mwJnG7xAwtQY",
        "outputId": "3507c3b8-4ed9-4985-d6c0-b17e3bf9d6ab"
      },
      "source": [
        "# criando a série do último mês disponível e ordena por valor\n",
        "base_usavel = dados[col_usaveis] # pega apenas as colunas completas\n",
        "base_usavel = base_usavel.set_index(\"Unidade da Federação\") # define o index dessa nova base\n",
        "ultimoMes = base_usavel.iloc[:,-1:] # cria a série pegando apenas o último mês\n",
        "ultimoMes = ultimoMes.sort_values(by=ultimoMes.columns[0], ascending=False) # ordena pelo valor do mês\n",
        "# validações\n",
        "# ultimoMes.tail()\n",
        "ultimoMes.head()"
      ],
      "execution_count": 5,
      "outputs": [
        {
          "output_type": "execute_result",
          "data": {
            "text/html": [
              "<div>\n",
              "<style scoped>\n",
              "    .dataframe tbody tr th:only-of-type {\n",
              "        vertical-align: middle;\n",
              "    }\n",
              "\n",
              "    .dataframe tbody tr th {\n",
              "        vertical-align: top;\n",
              "    }\n",
              "\n",
              "    .dataframe thead th {\n",
              "        text-align: right;\n",
              "    }\n",
              "</style>\n",
              "<table border=\"1\" class=\"dataframe\">\n",
              "  <thead>\n",
              "    <tr style=\"text-align: right;\">\n",
              "      <th></th>\n",
              "      <th>2021/Jul</th>\n",
              "    </tr>\n",
              "    <tr>\n",
              "      <th>Unidade da Federação</th>\n",
              "      <th></th>\n",
              "    </tr>\n",
              "  </thead>\n",
              "  <tbody>\n",
              "    <tr>\n",
              "      <th>São Paulo</th>\n",
              "      <td>305,314,678.98</td>\n",
              "    </tr>\n",
              "    <tr>\n",
              "      <th>Minas Gerais</th>\n",
              "      <td>154,160,802.91</td>\n",
              "    </tr>\n",
              "    <tr>\n",
              "      <th>Paraná</th>\n",
              "      <td>102,067,382.02</td>\n",
              "    </tr>\n",
              "    <tr>\n",
              "      <th>Rio Grande do Sul</th>\n",
              "      <td>88,897,808.64</td>\n",
              "    </tr>\n",
              "    <tr>\n",
              "      <th>Rio de Janeiro</th>\n",
              "      <td>86,682,141.36</td>\n",
              "    </tr>\n",
              "  </tbody>\n",
              "</table>\n",
              "</div>"
            ],
            "text/plain": [
              "                           2021/Jul\n",
              "Unidade da Federação               \n",
              "São Paulo            305,314,678.98\n",
              "Minas Gerais         154,160,802.91\n",
              "Paraná               102,067,382.02\n",
              "Rio Grande do Sul     88,897,808.64\n",
              "Rio de Janeiro        86,682,141.36"
            ]
          },
          "metadata": {},
          "execution_count": 5
        }
      ]
    },
    {
      "cell_type": "code",
      "metadata": {
        "colab": {
          "base_uri": "https://localhost:8080/",
          "height": 496
        },
        "id": "BFLgxunknoxx",
        "outputId": "f6c4a170-1aa0-4aa2-ba9a-4847340a2cea"
      },
      "source": [
        "# Construindo grafico dos 5 estados com maior valor\n",
        "ax = ultimoMes.plot(figsize=(10,6), kind=\"bar\", legend=False, color =\"b\")\n",
        "ax.set_facecolor(\"lightyellow\")\n",
        "# ajustando escala do eixo \n",
        "escalaY = 1e6\n",
        "ax.yaxis.set_major_formatter(ticker.FuncFormatter(lambda x, pos: '{:,.1f}'.format(x/escalaY)))\n",
        "\n",
        "ax.set_ylim(0, 350*escalaY) # definindo limites do eixo y\n",
        "ax.yaxis.grid(color='lightgrey', linestyle=\"--\") # incluindo a linha no eixo y\n",
        "# definindo titulos do gráfico e dos exios\n",
        "plt.ylabel(\"Valor - R$ MM\", fontweight=\"bold\", color=\"white\")\n",
        "plt.xlabel(\"UF\", fontweight=\"bold\", color=\"white\")\n",
        "plt.title(\"Destinação de Verbas para Procedimentos Hospitalares do SUS de Jul/2021\", fontweight=\"bold\", color=\"white\")\n",
        "plt.show()\n"
      ],
      "execution_count": 6,
      "outputs": [
        {
          "output_type": "display_data",
          "data": {
            "image/png": "[encoded data removed]",
            "text/plain": [
              "<Figure size 720x432 with 1 Axes>"
            ]
          },
          "metadata": {}
        }
      ]
    },
    {
      "cell_type": "code",
      "metadata": {
        "id": "--cP42tx7iTm",
        "colab": {
          "base_uri": "https://localhost:8080/",
          "height": 376
        },
        "outputId": "be03db3b-249e-4555-ec3c-ba45e84a62b0"
      },
      "source": [
        "populacao = pd.read_html(\"https://pt.wikipedia.org/wiki/Lista_de_unidades_federativas_do_Brasil_por_popula%C3%A7%C3%A3o\", \n",
        "                                      match=\"Unidade federativa\")\n",
        "populacao = populacao[0]\n",
        "populacao = populacao.rename(columns={\"Unidade federativa\":\"uf\",\"População\":\"populacao\"})\n",
        "populacao = populacao.set_index(\"uf\")\n",
        "populacao = populacao.filter(regex=\"populacao\")\n",
        "populacao[\"populacao\"] = populacao[\"populacao\"].str.replace(\" \",\"\").astype(int)\n",
        "populacao.index = populacao.index.str.strip()\n",
        "\n",
        "display(populacao.head())\n",
        "populacao.info()"
      ],
      "execution_count": 7,
      "outputs": [
        {
          "output_type": "display_data",
          "data": {
            "text/html": [
              "<div>\n",
              "<style scoped>\n",
              "    .dataframe tbody tr th:only-of-type {\n",
              "        vertical-align: middle;\n",
              "    }\n",
              "\n",
              "    .dataframe tbody tr th {\n",
              "        vertical-align: top;\n",
              "    }\n",
              "\n",
              "    .dataframe thead th {\n",
              "        text-align: right;\n",
              "    }\n",
              "</style>\n",
              "<table border=\"1\" class=\"dataframe\">\n",
              "  <thead>\n",
              "    <tr style=\"text-align: right;\">\n",
              "      <th></th>\n",
              "      <th>populacao</th>\n",
              "    </tr>\n",
              "    <tr>\n",
              "      <th>uf</th>\n",
              "      <th></th>\n",
              "    </tr>\n",
              "  </thead>\n",
              "  <tbody>\n",
              "    <tr>\n",
              "      <th>São Paulo</th>\n",
              "      <td>46649132</td>\n",
              "    </tr>\n",
              "    <tr>\n",
              "      <th>Minas Gerais</th>\n",
              "      <td>21411923</td>\n",
              "    </tr>\n",
              "    <tr>\n",
              "      <th>Rio de Janeiro</th>\n",
              "      <td>17463349</td>\n",
              "    </tr>\n",
              "    <tr>\n",
              "      <th>Bahia</th>\n",
              "      <td>14985284</td>\n",
              "    </tr>\n",
              "    <tr>\n",
              "      <th>Paraná</th>\n",
              "      <td>11597484</td>\n",
              "    </tr>\n",
              "  </tbody>\n",
              "</table>\n",
              "</div>"
            ],
            "text/plain": [
              "                populacao\n",
              "uf                       \n",
              "São Paulo        46649132\n",
              "Minas Gerais     21411923\n",
              "Rio de Janeiro   17463349\n",
              "Bahia            14985284\n",
              "Paraná           11597484"
            ]
          },
          "metadata": {}
        },
        {
          "output_type": "stream",
          "name": "stdout",
          "text": [
            "<class 'pandas.core.frame.DataFrame'>\n",
            "Index: 27 entries, São Paulo to Roraima\n",
            "Data columns (total 1 columns):\n",
            " #   Column     Non-Null Count  Dtype\n",
            "---  ------     --------------  -----\n",
            " 0   populacao  27 non-null     int64\n",
            "dtypes: int64(1)\n",
            "memory usage: 432.0+ bytes\n"
          ]
        }
      ]
    },
    {
      "cell_type": "code",
      "metadata": {
        "id": "cS1zuPuwq7nW",
        "colab": {
          "base_uri": "https://localhost:8080/",
          "height": 927
        },
        "outputId": "22b238ef-d8ee-43fc-f864-38ae6976232a"
      },
      "source": [
        "unida = populacao.join(ultimoMes)\n",
        "unida"
      ],
      "execution_count": 8,
      "outputs": [
        {
          "output_type": "execute_result",
          "data": {
            "text/html": [
              "<div>\n",
              "<style scoped>\n",
              "    .dataframe tbody tr th:only-of-type {\n",
              "        vertical-align: middle;\n",
              "    }\n",
              "\n",
              "    .dataframe tbody tr th {\n",
              "        vertical-align: top;\n",
              "    }\n",
              "\n",
              "    .dataframe thead th {\n",
              "        text-align: right;\n",
              "    }\n",
              "</style>\n",
              "<table border=\"1\" class=\"dataframe\">\n",
              "  <thead>\n",
              "    <tr style=\"text-align: right;\">\n",
              "      <th></th>\n",
              "      <th>populacao</th>\n",
              "      <th>2021/Jul</th>\n",
              "    </tr>\n",
              "    <tr>\n",
              "      <th>uf</th>\n",
              "      <th></th>\n",
              "      <th></th>\n",
              "    </tr>\n",
              "  </thead>\n",
              "  <tbody>\n",
              "    <tr>\n",
              "      <th>São Paulo</th>\n",
              "      <td>46649132</td>\n",
              "      <td>305,314,678.98</td>\n",
              "    </tr>\n",
              "    <tr>\n",
              "      <th>Minas Gerais</th>\n",
              "      <td>21411923</td>\n",
              "      <td>154,160,802.91</td>\n",
              "    </tr>\n",
              "    <tr>\n",
              "      <th>Rio de Janeiro</th>\n",
              "      <td>17463349</td>\n",
              "      <td>86,682,141.36</td>\n",
              "    </tr>\n",
              "    <tr>\n",
              "      <th>Bahia</th>\n",
              "      <td>14985284</td>\n",
              "      <td>70,232,597.61</td>\n",
              "    </tr>\n",
              "    <tr>\n",
              "      <th>Paraná</th>\n",
              "      <td>11597484</td>\n",
              "      <td>102,067,382.02</td>\n",
              "    </tr>\n",
              "    <tr>\n",
              "      <th>Rio Grande do Sul</th>\n",
              "      <td>11466630</td>\n",
              "      <td>88,897,808.64</td>\n",
              "    </tr>\n",
              "    <tr>\n",
              "      <th>Pernambuco</th>\n",
              "      <td>9674793</td>\n",
              "      <td>80,912,918.86</td>\n",
              "    </tr>\n",
              "    <tr>\n",
              "      <th>Ceará</th>\n",
              "      <td>9240580</td>\n",
              "      <td>38,293,086.33</td>\n",
              "    </tr>\n",
              "    <tr>\n",
              "      <th>Pará</th>\n",
              "      <td>8777124</td>\n",
              "      <td>30,176,865.99</td>\n",
              "    </tr>\n",
              "    <tr>\n",
              "      <th>Santa Catarina</th>\n",
              "      <td>7338473</td>\n",
              "      <td>49,791,777.84</td>\n",
              "    </tr>\n",
              "    <tr>\n",
              "      <th>Goiás</th>\n",
              "      <td>7206589</td>\n",
              "      <td>45,518,873.74</td>\n",
              "    </tr>\n",
              "    <tr>\n",
              "      <th>Maranhão</th>\n",
              "      <td>7153262</td>\n",
              "      <td>28,076,854.43</td>\n",
              "    </tr>\n",
              "    <tr>\n",
              "      <th>Amazonas</th>\n",
              "      <td>4269995</td>\n",
              "      <td>16,487,221.12</td>\n",
              "    </tr>\n",
              "    <tr>\n",
              "      <th>Espírito Santo</th>\n",
              "      <td>4108508</td>\n",
              "      <td>31,538,501.89</td>\n",
              "    </tr>\n",
              "    <tr>\n",
              "      <th>Paraíba</th>\n",
              "      <td>4059905</td>\n",
              "      <td>18,959,325.80</td>\n",
              "    </tr>\n",
              "    <tr>\n",
              "      <th>Mato Grosso</th>\n",
              "      <td>3567234</td>\n",
              "      <td>23,657,444.84</td>\n",
              "    </tr>\n",
              "    <tr>\n",
              "      <th>Rio Grande do Norte</th>\n",
              "      <td>3560903</td>\n",
              "      <td>19,439,683.31</td>\n",
              "    </tr>\n",
              "    <tr>\n",
              "      <th>Alagoas</th>\n",
              "      <td>3365351</td>\n",
              "      <td>14,456,357.74</td>\n",
              "    </tr>\n",
              "    <tr>\n",
              "      <th>Piauí</th>\n",
              "      <td>3289290</td>\n",
              "      <td>16,815,793.10</td>\n",
              "    </tr>\n",
              "    <tr>\n",
              "      <th>Distrito Federal</th>\n",
              "      <td>3094325</td>\n",
              "      <td>23,111,104.91</td>\n",
              "    </tr>\n",
              "    <tr>\n",
              "      <th>Mato Grosso do Sul</th>\n",
              "      <td>2839188</td>\n",
              "      <td>13,922,456.93</td>\n",
              "    </tr>\n",
              "    <tr>\n",
              "      <th>Sergipe</th>\n",
              "      <td>2338474</td>\n",
              "      <td>4,902,662.90</td>\n",
              "    </tr>\n",
              "    <tr>\n",
              "      <th>Rondônia</th>\n",
              "      <td>1815278</td>\n",
              "      <td>7,427,454.01</td>\n",
              "    </tr>\n",
              "    <tr>\n",
              "      <th>Tocantins</th>\n",
              "      <td>1607363</td>\n",
              "      <td>4,466,982.19</td>\n",
              "    </tr>\n",
              "    <tr>\n",
              "      <th>Acre</th>\n",
              "      <td>906876</td>\n",
              "      <td>2,302,711.01</td>\n",
              "    </tr>\n",
              "    <tr>\n",
              "      <th>Amapá</th>\n",
              "      <td>877613</td>\n",
              "      <td>632,906.09</td>\n",
              "    </tr>\n",
              "    <tr>\n",
              "      <th>Roraima</th>\n",
              "      <td>652713</td>\n",
              "      <td>2,977,820.70</td>\n",
              "    </tr>\n",
              "  </tbody>\n",
              "</table>\n",
              "</div>"
            ],
            "text/plain": [
              "                     populacao       2021/Jul\n",
              "uf                                           \n",
              "São Paulo             46649132 305,314,678.98\n",
              "Minas Gerais          21411923 154,160,802.91\n",
              "Rio de Janeiro        17463349  86,682,141.36\n",
              "Bahia                 14985284  70,232,597.61\n",
              "Paraná                11597484 102,067,382.02\n",
              "Rio Grande do Sul     11466630  88,897,808.64\n",
              "Pernambuco             9674793  80,912,918.86\n",
              "Ceará                  9240580  38,293,086.33\n",
              "Pará                   8777124  30,176,865.99\n",
              "Santa Catarina         7338473  49,791,777.84\n",
              "Goiás                  7206589  45,518,873.74\n",
              "Maranhão               7153262  28,076,854.43\n",
              "Amazonas               4269995  16,487,221.12\n",
              "Espírito Santo         4108508  31,538,501.89\n",
              "Paraíba                4059905  18,959,325.80\n",
              "Mato Grosso            3567234  23,657,444.84\n",
              "Rio Grande do Norte    3560903  19,439,683.31\n",
              "Alagoas                3365351  14,456,357.74\n",
              "Piauí                  3289290  16,815,793.10\n",
              "Distrito Federal       3094325  23,111,104.91\n",
              "Mato Grosso do Sul     2839188  13,922,456.93\n",
              "Sergipe                2338474   4,902,662.90\n",
              "Rondônia               1815278   7,427,454.01\n",
              "Tocantins              1607363   4,466,982.19\n",
              "Acre                    906876   2,302,711.01\n",
              "Amapá                   877613     632,906.09\n",
              "Roraima                 652713   2,977,820.70"
            ]
          },
          "metadata": {},
          "execution_count": 8
        }
      ]
    },
    {
      "cell_type": "code",
      "metadata": {
        "id": "JXXNgzGoia8C"
      },
      "source": [
        "def trata_base_populacao(base_tratar):\n",
        "  base_tratar = base_tratar.rename(columns={\"Unidade federativa\":\"uf\",\"População\":\"populacao\"})\n",
        "  base_tratar = base_tratar.set_index(\"uf\")\n",
        "  populacao = base_tratar.filter(regex=\"populacao\").copy()\n",
        "  populacao[\"populacao\"] = populacao[\"populacao\"].str.replace(\" \",\"\").astype(int)\n",
        "  populacao.index = populacao.index.str.strip()\n",
        "  unida = populacao.join(ultimoMes)\n",
        "  return (populacao, unida)"
      ],
      "execution_count": 9,
      "outputs": []
    },
    {
      "cell_type": "code",
      "metadata": {
        "id": "eek4bI7HrBgf",
        "colab": {
          "base_uri": "https://localhost:8080/",
          "height": 458
        },
        "outputId": "3e2ce8ab-cf99-45b8-e306-53bf420a0754"
      },
      "source": [
        "base_pop = pd.read_html(\"https://pt.wikipedia.org/wiki/Lista_de_unidades_federativas_do_Brasil_por_popula%C3%A7%C3%A3o\", \n",
        "                                      match=\"Unidade federativa\")\n",
        "população, unida = trata_base_populacao (base_pop[0])\n",
        "display(população.head())\n",
        "display(unida.head())"
      ],
      "execution_count": 10,
      "outputs": [
        {
          "output_type": "display_data",
          "data": {
            "text/html": [
              "<div>\n",
              "<style scoped>\n",
              "    .dataframe tbody tr th:only-of-type {\n",
              "        vertical-align: middle;\n",
              "    }\n",
              "\n",
              "    .dataframe tbody tr th {\n",
              "        vertical-align: top;\n",
              "    }\n",
              "\n",
              "    .dataframe thead th {\n",
              "        text-align: right;\n",
              "    }\n",
              "</style>\n",
              "<table border=\"1\" class=\"dataframe\">\n",
              "  <thead>\n",
              "    <tr style=\"text-align: right;\">\n",
              "      <th></th>\n",
              "      <th>populacao</th>\n",
              "    </tr>\n",
              "    <tr>\n",
              "      <th>uf</th>\n",
              "      <th></th>\n",
              "    </tr>\n",
              "  </thead>\n",
              "  <tbody>\n",
              "    <tr>\n",
              "      <th>São Paulo</th>\n",
              "      <td>46649132</td>\n",
              "    </tr>\n",
              "    <tr>\n",
              "      <th>Minas Gerais</th>\n",
              "      <td>21411923</td>\n",
              "    </tr>\n",
              "    <tr>\n",
              "      <th>Rio de Janeiro</th>\n",
              "      <td>17463349</td>\n",
              "    </tr>\n",
              "    <tr>\n",
              "      <th>Bahia</th>\n",
              "      <td>14985284</td>\n",
              "    </tr>\n",
              "    <tr>\n",
              "      <th>Paraná</th>\n",
              "      <td>11597484</td>\n",
              "    </tr>\n",
              "  </tbody>\n",
              "</table>\n",
              "</div>"
            ],
            "text/plain": [
              "                populacao\n",
              "uf                       \n",
              "São Paulo        46649132\n",
              "Minas Gerais     21411923\n",
              "Rio de Janeiro   17463349\n",
              "Bahia            14985284\n",
              "Paraná           11597484"
            ]
          },
          "metadata": {}
        },
        {
          "output_type": "display_data",
          "data": {
            "text/html": [
              "<div>\n",
              "<style scoped>\n",
              "    .dataframe tbody tr th:only-of-type {\n",
              "        vertical-align: middle;\n",
              "    }\n",
              "\n",
              "    .dataframe tbody tr th {\n",
              "        vertical-align: top;\n",
              "    }\n",
              "\n",
              "    .dataframe thead th {\n",
              "        text-align: right;\n",
              "    }\n",
              "</style>\n",
              "<table border=\"1\" class=\"dataframe\">\n",
              "  <thead>\n",
              "    <tr style=\"text-align: right;\">\n",
              "      <th></th>\n",
              "      <th>populacao</th>\n",
              "      <th>2021/Jul</th>\n",
              "    </tr>\n",
              "    <tr>\n",
              "      <th>uf</th>\n",
              "      <th></th>\n",
              "      <th></th>\n",
              "    </tr>\n",
              "  </thead>\n",
              "  <tbody>\n",
              "    <tr>\n",
              "      <th>São Paulo</th>\n",
              "      <td>46649132</td>\n",
              "      <td>305,314,678.98</td>\n",
              "    </tr>\n",
              "    <tr>\n",
              "      <th>Minas Gerais</th>\n",
              "      <td>21411923</td>\n",
              "      <td>154,160,802.91</td>\n",
              "    </tr>\n",
              "    <tr>\n",
              "      <th>Rio de Janeiro</th>\n",
              "      <td>17463349</td>\n",
              "      <td>86,682,141.36</td>\n",
              "    </tr>\n",
              "    <tr>\n",
              "      <th>Bahia</th>\n",
              "      <td>14985284</td>\n",
              "      <td>70,232,597.61</td>\n",
              "    </tr>\n",
              "    <tr>\n",
              "      <th>Paraná</th>\n",
              "      <td>11597484</td>\n",
              "      <td>102,067,382.02</td>\n",
              "    </tr>\n",
              "  </tbody>\n",
              "</table>\n",
              "</div>"
            ],
            "text/plain": [
              "                populacao       2021/Jul\n",
              "uf                                      \n",
              "São Paulo        46649132 305,314,678.98\n",
              "Minas Gerais     21411923 154,160,802.91\n",
              "Rio de Janeiro   17463349  86,682,141.36\n",
              "Bahia            14985284  70,232,597.61\n",
              "Paraná           11597484 102,067,382.02"
            ]
          },
          "metadata": {}
        }
      ]
    },
    {
      "cell_type": "code",
      "metadata": {
        "id": "-hbbi6_orU71"
      },
      "source": [
        "unida[\"gastos\"] = unida[\"2021/Jul\"]"
      ],
      "execution_count": 11,
      "outputs": []
    },
    {
      "cell_type": "code",
      "metadata": {
        "id": "Ch8kxEbbFUaF"
      },
      "source": [
        "import seaborn as sns"
      ],
      "execution_count": 12,
      "outputs": []
    },
    {
      "cell_type": "code",
      "metadata": {
        "id": "3T0DPTdQGABP"
      },
      "source": [
        "unida[\"gastos por habitante\"] = unida[\"gastos\"]/unida[\"populacao\"]"
      ],
      "execution_count": 13,
      "outputs": []
    },
    {
      "cell_type": "code",
      "metadata": {
        "id": "z-A149M0Gu0u",
        "outputId": "203bb6b6-2da6-4ede-f030-7d6351f54715",
        "colab": {
          "base_uri": "https://localhost:8080/",
          "height": 237
        }
      },
      "source": [
        "unida.head()"
      ],
      "execution_count": 14,
      "outputs": [
        {
          "output_type": "execute_result",
          "data": {
            "text/html": [
              "<div>\n",
              "<style scoped>\n",
              "    .dataframe tbody tr th:only-of-type {\n",
              "        vertical-align: middle;\n",
              "    }\n",
              "\n",
              "    .dataframe tbody tr th {\n",
              "        vertical-align: top;\n",
              "    }\n",
              "\n",
              "    .dataframe thead th {\n",
              "        text-align: right;\n",
              "    }\n",
              "</style>\n",
              "<table border=\"1\" class=\"dataframe\">\n",
              "  <thead>\n",
              "    <tr style=\"text-align: right;\">\n",
              "      <th></th>\n",
              "      <th>populacao</th>\n",
              "      <th>2021/Jul</th>\n",
              "      <th>gastos</th>\n",
              "      <th>gastos por habitante</th>\n",
              "    </tr>\n",
              "    <tr>\n",
              "      <th>uf</th>\n",
              "      <th></th>\n",
              "      <th></th>\n",
              "      <th></th>\n",
              "      <th></th>\n",
              "    </tr>\n",
              "  </thead>\n",
              "  <tbody>\n",
              "    <tr>\n",
              "      <th>São Paulo</th>\n",
              "      <td>46649132</td>\n",
              "      <td>305,314,678.98</td>\n",
              "      <td>305,314,678.98</td>\n",
              "      <td>6.54</td>\n",
              "    </tr>\n",
              "    <tr>\n",
              "      <th>Minas Gerais</th>\n",
              "      <td>21411923</td>\n",
              "      <td>154,160,802.91</td>\n",
              "      <td>154,160,802.91</td>\n",
              "      <td>7.20</td>\n",
              "    </tr>\n",
              "    <tr>\n",
              "      <th>Rio de Janeiro</th>\n",
              "      <td>17463349</td>\n",
              "      <td>86,682,141.36</td>\n",
              "      <td>86,682,141.36</td>\n",
              "      <td>4.96</td>\n",
              "    </tr>\n",
              "    <tr>\n",
              "      <th>Bahia</th>\n",
              "      <td>14985284</td>\n",
              "      <td>70,232,597.61</td>\n",
              "      <td>70,232,597.61</td>\n",
              "      <td>4.69</td>\n",
              "    </tr>\n",
              "    <tr>\n",
              "      <th>Paraná</th>\n",
              "      <td>11597484</td>\n",
              "      <td>102,067,382.02</td>\n",
              "      <td>102,067,382.02</td>\n",
              "      <td>8.80</td>\n",
              "    </tr>\n",
              "  </tbody>\n",
              "</table>\n",
              "</div>"
            ],
            "text/plain": [
              "                populacao       2021/Jul         gastos  gastos por habitante\n",
              "uf                                                                           \n",
              "São Paulo        46649132 305,314,678.98 305,314,678.98                  6.54\n",
              "Minas Gerais     21411923 154,160,802.91 154,160,802.91                  7.20\n",
              "Rio de Janeiro   17463349  86,682,141.36  86,682,141.36                  4.96\n",
              "Bahia            14985284  70,232,597.61  70,232,597.61                  4.69\n",
              "Paraná           11597484 102,067,382.02 102,067,382.02                  8.80"
            ]
          },
          "metadata": {},
          "execution_count": 14
        }
      ]
    },
    {
      "cell_type": "code",
      "metadata": {
        "id": "9uP01qW9Gyfm",
        "outputId": "fcca49ad-2370-4268-f12b-3ad3d9f1d7cf",
        "colab": {
          "base_uri": "https://localhost:8080/",
          "height": 371
        }
      },
      "source": [
        "def plot_ordenado (base, ordenar, apresentar):\n",
        "  base.sort_values(by=ordenar, inplace=True)\n",
        "  base[apresentar].plot(kind=\"bar\")\n",
        "\n",
        "plot_ordenado(unida,\"gastos por habitante\",\"gastos por habitante\")"
      ],
      "execution_count": 15,
      "outputs": [
        {
          "output_type": "display_data",
          "data": {
            "image/png": "[encoded data removed]",
            "text/plain": [
              "<Figure size 432x288 with 1 Axes>"
            ]
          },
          "metadata": {}
        }
      ]
    },
    {
      "cell_type": "code",
      "metadata": {
        "id": "Ma-SlIZdG5rB",
        "outputId": "d850d319-c3be-4eda-fe34-188248c861c0",
        "colab": {
          "base_uri": "https://localhost:8080/",
          "height": 371
        }
      },
      "source": [
        "plot_ordenado(unida,\"populacao\",\"gastos por habitante\")"
      ],
      "execution_count": 16,
      "outputs": [
        {
          "output_type": "display_data",
          "data": {
            "image/png": "[encoded data removed]",
            "text/plain": [
              "<Figure size 432x288 with 1 Axes>"
            ]
          },
          "metadata": {}
        }
      ]
    },
    {
      "cell_type": "code",
      "metadata": {
        "id": "MjVlSjcdJYWG",
        "outputId": "c2d9b8f2-4ff5-43af-9606-84703daf2959",
        "colab": {
          "base_uri": "https://localhost:8080/",
          "height": 471
        }
      },
      "source": [
        "plt.figure(figsize=(7,7))\n",
        "sns.scatterplot(data=unida, x=\"populacao\", y=\"gastos\")"
      ],
      "execution_count": 17,
      "outputs": [
        {
          "output_type": "execute_result",
          "data": {
            "text/plain": [
              "<matplotlib.axes._subplots.AxesSubplot at 0x7fe68d9c5750>"
            ]
          },
          "metadata": {},
          "execution_count": 17
        },
        {
          "output_type": "display_data",
          "data": {
            "image/png": "[encoded data removed]",
            "text/plain": [
              "<Figure size 504x504 with 1 Axes>"
            ]
          },
          "metadata": {}
        }
      ]
    },
    {
      "cell_type": "code",
      "metadata": {
        "id": "xda7uI5qKIIN",
        "outputId": "6b1b0acd-ae20-46f2-9ef6-3d1d638c55d1",
        "colab": {
          "base_uri": "https://localhost:8080/",
          "height": 459
        }
      },
      "source": [
        "plt.figure(figsize=(7,7))\n",
        "sns.scatterplot(data=unida, x=\"populacao\", y=\"gastos por habitante\")"
      ],
      "execution_count": 18,
      "outputs": [
        {
          "output_type": "execute_result",
          "data": {
            "text/plain": [
              "<matplotlib.axes._subplots.AxesSubplot at 0x7fe68d8fad90>"
            ]
          },
          "metadata": {},
          "execution_count": 18
        },
        {
          "output_type": "display_data",
          "data": {
            "image/png": "[encoded data removed]",
            "text/plain": [
              "<Figure size 504x504 with 1 Axes>"
            ]
          },
          "metadata": {}
        }
      ]
    },
    {
      "cell_type": "code",
      "metadata": {
        "id": "0TMUqQVGKnA2",
        "outputId": "ac3fb1c9-4e18-47e0-8b56-0d416e6fbf04",
        "colab": {
          "base_uri": "https://localhost:8080/",
          "height": 237
        }
      },
      "source": [
        "mesAnterior = base_usavel[base_usavel.columns[-2:-1]]\n",
        "mesAnterior.head()"
      ],
      "execution_count": 19,
      "outputs": [
        {
          "output_type": "execute_result",
          "data": {
            "text/html": [
              "<div>\n",
              "<style scoped>\n",
              "    .dataframe tbody tr th:only-of-type {\n",
              "        vertical-align: middle;\n",
              "    }\n",
              "\n",
              "    .dataframe tbody tr th {\n",
              "        vertical-align: top;\n",
              "    }\n",
              "\n",
              "    .dataframe thead th {\n",
              "        text-align: right;\n",
              "    }\n",
              "</style>\n",
              "<table border=\"1\" class=\"dataframe\">\n",
              "  <thead>\n",
              "    <tr style=\"text-align: right;\">\n",
              "      <th></th>\n",
              "      <th>2021/Jun</th>\n",
              "    </tr>\n",
              "    <tr>\n",
              "      <th>Unidade da Federação</th>\n",
              "      <th></th>\n",
              "    </tr>\n",
              "  </thead>\n",
              "  <tbody>\n",
              "    <tr>\n",
              "      <th>Rondônia</th>\n",
              "      <td>12,586,384.26</td>\n",
              "    </tr>\n",
              "    <tr>\n",
              "      <th>Acre</th>\n",
              "      <td>3,458,187.11</td>\n",
              "    </tr>\n",
              "    <tr>\n",
              "      <th>Amazonas</th>\n",
              "      <td>20,503,366.04</td>\n",
              "    </tr>\n",
              "    <tr>\n",
              "      <th>Roraima</th>\n",
              "      <td>3,350,272.96</td>\n",
              "    </tr>\n",
              "    <tr>\n",
              "      <th>Pará</th>\n",
              "      <td>41,805,551.16</td>\n",
              "    </tr>\n",
              "  </tbody>\n",
              "</table>\n",
              "</div>"
            ],
            "text/plain": [
              "                          2021/Jun\n",
              "Unidade da Federação              \n",
              "Rondônia             12,586,384.26\n",
              "Acre                  3,458,187.11\n",
              "Amazonas             20,503,366.04\n",
              "Roraima               3,350,272.96\n",
              "Pará                 41,805,551.16"
            ]
          },
          "metadata": {},
          "execution_count": 19
        }
      ]
    },
    {
      "cell_type": "code",
      "metadata": {
        "id": "UJ5j-kMyLSFe",
        "outputId": "b207f46f-7a0e-49a4-b4ed-7689e6937df9",
        "colab": {
          "base_uri": "https://localhost:8080/",
          "height": 237
        }
      },
      "source": [
        "unidas = unida.join(mesAnterior)\n",
        "unidas.head()"
      ],
      "execution_count": 20,
      "outputs": [
        {
          "output_type": "execute_result",
          "data": {
            "text/html": [
              "<div>\n",
              "<style scoped>\n",
              "    .dataframe tbody tr th:only-of-type {\n",
              "        vertical-align: middle;\n",
              "    }\n",
              "\n",
              "    .dataframe tbody tr th {\n",
              "        vertical-align: top;\n",
              "    }\n",
              "\n",
              "    .dataframe thead th {\n",
              "        text-align: right;\n",
              "    }\n",
              "</style>\n",
              "<table border=\"1\" class=\"dataframe\">\n",
              "  <thead>\n",
              "    <tr style=\"text-align: right;\">\n",
              "      <th></th>\n",
              "      <th>populacao</th>\n",
              "      <th>2021/Jul</th>\n",
              "      <th>gastos</th>\n",
              "      <th>gastos por habitante</th>\n",
              "      <th>2021/Jun</th>\n",
              "    </tr>\n",
              "    <tr>\n",
              "      <th>uf</th>\n",
              "      <th></th>\n",
              "      <th></th>\n",
              "      <th></th>\n",
              "      <th></th>\n",
              "      <th></th>\n",
              "    </tr>\n",
              "  </thead>\n",
              "  <tbody>\n",
              "    <tr>\n",
              "      <th>Roraima</th>\n",
              "      <td>652713</td>\n",
              "      <td>2,977,820.70</td>\n",
              "      <td>2,977,820.70</td>\n",
              "      <td>4.56</td>\n",
              "      <td>3,350,272.96</td>\n",
              "    </tr>\n",
              "    <tr>\n",
              "      <th>Amapá</th>\n",
              "      <td>877613</td>\n",
              "      <td>632,906.09</td>\n",
              "      <td>632,906.09</td>\n",
              "      <td>0.72</td>\n",
              "      <td>1,986,903.84</td>\n",
              "    </tr>\n",
              "    <tr>\n",
              "      <th>Acre</th>\n",
              "      <td>906876</td>\n",
              "      <td>2,302,711.01</td>\n",
              "      <td>2,302,711.01</td>\n",
              "      <td>2.54</td>\n",
              "      <td>3,458,187.11</td>\n",
              "    </tr>\n",
              "    <tr>\n",
              "      <th>Tocantins</th>\n",
              "      <td>1607363</td>\n",
              "      <td>4,466,982.19</td>\n",
              "      <td>4,466,982.19</td>\n",
              "      <td>2.78</td>\n",
              "      <td>6,308,189.85</td>\n",
              "    </tr>\n",
              "    <tr>\n",
              "      <th>Rondônia</th>\n",
              "      <td>1815278</td>\n",
              "      <td>7,427,454.01</td>\n",
              "      <td>7,427,454.01</td>\n",
              "      <td>4.09</td>\n",
              "      <td>12,586,384.26</td>\n",
              "    </tr>\n",
              "  </tbody>\n",
              "</table>\n",
              "</div>"
            ],
            "text/plain": [
              "           populacao     2021/Jul  ...  gastos por habitante      2021/Jun\n",
              "uf                                 ...                                    \n",
              "Roraima       652713 2,977,820.70  ...                  4.56  3,350,272.96\n",
              "Amapá         877613   632,906.09  ...                  0.72  1,986,903.84\n",
              "Acre          906876 2,302,711.01  ...                  2.54  3,458,187.11\n",
              "Tocantins    1607363 4,466,982.19  ...                  2.78  6,308,189.85\n",
              "Rondônia     1815278 7,427,454.01  ...                  4.09 12,586,384.26\n",
              "\n",
              "[5 rows x 5 columns]"
            ]
          },
          "metadata": {},
          "execution_count": 20
        }
      ]
    },
    {
      "cell_type": "code",
      "metadata": {
        "id": "QBSSoyRNLmZh",
        "outputId": "d0482971-fc24-4193-955d-c07103571714",
        "colab": {
          "base_uri": "https://localhost:8080/",
          "height": 237
        }
      },
      "source": [
        "unidas.rename(columns={\"2021/Jul\":\"Gastos_Jul/21\",\"2021/Jun\":\"Gastos_Jun/21\",\"gastos por habitante\":\"gastos_por_habit_Jul/21\"}, inplace=True)\n",
        "unidas.head()"
      ],
      "execution_count": 21,
      "outputs": [
        {
          "output_type": "execute_result",
          "data": {
            "text/html": [
              "<div>\n",
              "<style scoped>\n",
              "    .dataframe tbody tr th:only-of-type {\n",
              "        vertical-align: middle;\n",
              "    }\n",
              "\n",
              "    .dataframe tbody tr th {\n",
              "        vertical-align: top;\n",
              "    }\n",
              "\n",
              "    .dataframe thead th {\n",
              "        text-align: right;\n",
              "    }\n",
              "</style>\n",
              "<table border=\"1\" class=\"dataframe\">\n",
              "  <thead>\n",
              "    <tr style=\"text-align: right;\">\n",
              "      <th></th>\n",
              "      <th>populacao</th>\n",
              "      <th>Gastos_Jul/21</th>\n",
              "      <th>gastos</th>\n",
              "      <th>gastos_por_habit_Jul/21</th>\n",
              "      <th>Gastos_Jun/21</th>\n",
              "    </tr>\n",
              "    <tr>\n",
              "      <th>uf</th>\n",
              "      <th></th>\n",
              "      <th></th>\n",
              "      <th></th>\n",
              "      <th></th>\n",
              "      <th></th>\n",
              "    </tr>\n",
              "  </thead>\n",
              "  <tbody>\n",
              "    <tr>\n",
              "      <th>Roraima</th>\n",
              "      <td>652713</td>\n",
              "      <td>2,977,820.70</td>\n",
              "      <td>2,977,820.70</td>\n",
              "      <td>4.56</td>\n",
              "      <td>3,350,272.96</td>\n",
              "    </tr>\n",
              "    <tr>\n",
              "      <th>Amapá</th>\n",
              "      <td>877613</td>\n",
              "      <td>632,906.09</td>\n",
              "      <td>632,906.09</td>\n",
              "      <td>0.72</td>\n",
              "      <td>1,986,903.84</td>\n",
              "    </tr>\n",
              "    <tr>\n",
              "      <th>Acre</th>\n",
              "      <td>906876</td>\n",
              "      <td>2,302,711.01</td>\n",
              "      <td>2,302,711.01</td>\n",
              "      <td>2.54</td>\n",
              "      <td>3,458,187.11</td>\n",
              "    </tr>\n",
              "    <tr>\n",
              "      <th>Tocantins</th>\n",
              "      <td>1607363</td>\n",
              "      <td>4,466,982.19</td>\n",
              "      <td>4,466,982.19</td>\n",
              "      <td>2.78</td>\n",
              "      <td>6,308,189.85</td>\n",
              "    </tr>\n",
              "    <tr>\n",
              "      <th>Rondônia</th>\n",
              "      <td>1815278</td>\n",
              "      <td>7,427,454.01</td>\n",
              "      <td>7,427,454.01</td>\n",
              "      <td>4.09</td>\n",
              "      <td>12,586,384.26</td>\n",
              "    </tr>\n",
              "  </tbody>\n",
              "</table>\n",
              "</div>"
            ],
            "text/plain": [
              "           populacao  Gastos_Jul/21  ...  gastos_por_habit_Jul/21  Gastos_Jun/21\n",
              "uf                                   ...                                        \n",
              "Roraima       652713   2,977,820.70  ...                     4.56   3,350,272.96\n",
              "Amapá         877613     632,906.09  ...                     0.72   1,986,903.84\n",
              "Acre          906876   2,302,711.01  ...                     2.54   3,458,187.11\n",
              "Tocantins    1607363   4,466,982.19  ...                     2.78   6,308,189.85\n",
              "Rondônia     1815278   7,427,454.01  ...                     4.09  12,586,384.26\n",
              "\n",
              "[5 rows x 5 columns]"
            ]
          },
          "metadata": {},
          "execution_count": 21
        }
      ]
    },
    {
      "cell_type": "code",
      "metadata": {
        "id": "pddWW76DMA14",
        "outputId": "81ae1c54-abdc-4796-b2eb-351b54a03b8b",
        "colab": {
          "base_uri": "https://localhost:8080/",
          "height": 237
        }
      },
      "source": [
        "unidas[\"gastos_por_habit_Jun/21\"] = unidas[\"Gastos_Jun/21\"]/unidas[\"populacao\"]\n",
        "unidas.head()"
      ],
      "execution_count": 22,
      "outputs": [
        {
          "output_type": "execute_result",
          "data": {
            "text/html": [
              "<div>\n",
              "<style scoped>\n",
              "    .dataframe tbody tr th:only-of-type {\n",
              "        vertical-align: middle;\n",
              "    }\n",
              "\n",
              "    .dataframe tbody tr th {\n",
              "        vertical-align: top;\n",
              "    }\n",
              "\n",
              "    .dataframe thead th {\n",
              "        text-align: right;\n",
              "    }\n",
              "</style>\n",
              "<table border=\"1\" class=\"dataframe\">\n",
              "  <thead>\n",
              "    <tr style=\"text-align: right;\">\n",
              "      <th></th>\n",
              "      <th>populacao</th>\n",
              "      <th>Gastos_Jul/21</th>\n",
              "      <th>gastos</th>\n",
              "      <th>gastos_por_habit_Jul/21</th>\n",
              "      <th>Gastos_Jun/21</th>\n",
              "      <th>gastos_por_habit_Jun/21</th>\n",
              "    </tr>\n",
              "    <tr>\n",
              "      <th>uf</th>\n",
              "      <th></th>\n",
              "      <th></th>\n",
              "      <th></th>\n",
              "      <th></th>\n",
              "      <th></th>\n",
              "      <th></th>\n",
              "    </tr>\n",
              "  </thead>\n",
              "  <tbody>\n",
              "    <tr>\n",
              "      <th>Roraima</th>\n",
              "      <td>652713</td>\n",
              "      <td>2,977,820.70</td>\n",
              "      <td>2,977,820.70</td>\n",
              "      <td>4.56</td>\n",
              "      <td>3,350,272.96</td>\n",
              "      <td>5.13</td>\n",
              "    </tr>\n",
              "    <tr>\n",
              "      <th>Amapá</th>\n",
              "      <td>877613</td>\n",
              "      <td>632,906.09</td>\n",
              "      <td>632,906.09</td>\n",
              "      <td>0.72</td>\n",
              "      <td>1,986,903.84</td>\n",
              "      <td>2.26</td>\n",
              "    </tr>\n",
              "    <tr>\n",
              "      <th>Acre</th>\n",
              "      <td>906876</td>\n",
              "      <td>2,302,711.01</td>\n",
              "      <td>2,302,711.01</td>\n",
              "      <td>2.54</td>\n",
              "      <td>3,458,187.11</td>\n",
              "      <td>3.81</td>\n",
              "    </tr>\n",
              "    <tr>\n",
              "      <th>Tocantins</th>\n",
              "      <td>1607363</td>\n",
              "      <td>4,466,982.19</td>\n",
              "      <td>4,466,982.19</td>\n",
              "      <td>2.78</td>\n",
              "      <td>6,308,189.85</td>\n",
              "      <td>3.92</td>\n",
              "    </tr>\n",
              "    <tr>\n",
              "      <th>Rondônia</th>\n",
              "      <td>1815278</td>\n",
              "      <td>7,427,454.01</td>\n",
              "      <td>7,427,454.01</td>\n",
              "      <td>4.09</td>\n",
              "      <td>12,586,384.26</td>\n",
              "      <td>6.93</td>\n",
              "    </tr>\n",
              "  </tbody>\n",
              "</table>\n",
              "</div>"
            ],
            "text/plain": [
              "           populacao  Gastos_Jul/21  ...  Gastos_Jun/21  gastos_por_habit_Jun/21\n",
              "uf                                   ...                                        \n",
              "Roraima       652713   2,977,820.70  ...   3,350,272.96                     5.13\n",
              "Amapá         877613     632,906.09  ...   1,986,903.84                     2.26\n",
              "Acre          906876   2,302,711.01  ...   3,458,187.11                     3.81\n",
              "Tocantins    1607363   4,466,982.19  ...   6,308,189.85                     3.92\n",
              "Rondônia     1815278   7,427,454.01  ...  12,586,384.26                     6.93\n",
              "\n",
              "[5 rows x 6 columns]"
            ]
          },
          "metadata": {},
          "execution_count": 22
        }
      ]
    },
    {
      "cell_type": "code",
      "metadata": {
        "id": "paC-tp7rNFX8",
        "outputId": "560166f4-9bca-4da1-e9dd-cc9ca02433ce",
        "colab": {
          "base_uri": "https://localhost:8080/",
          "height": 371
        }
      },
      "source": [
        "plot_ordenado(unidas,\"gastos_por_habit_Jun/21\",\"gastos_por_habit_Jun/21\")"
      ],
      "execution_count": 23,
      "outputs": [
        {
          "output_type": "display_data",
          "data": {
            "image/png": "[encoded data removed]",
            "text/plain": [
              "<Figure size 432x288 with 1 Axes>"
            ]
          },
          "metadata": {}
        }
      ]
    },
    {
      "cell_type": "code",
      "metadata": {
        "id": "Vdu9iRfONgf2",
        "outputId": "1a2ba58e-f63a-41d2-c08f-07acab430979",
        "colab": {
          "base_uri": "https://localhost:8080/",
          "height": 471
        }
      },
      "source": [
        "plt.figure(figsize=(7,7))\n",
        "sns.scatterplot(data=unidas, x=\"populacao\", y=\"Gastos_Jun/21\")"
      ],
      "execution_count": 24,
      "outputs": [
        {
          "output_type": "execute_result",
          "data": {
            "text/plain": [
              "<matplotlib.axes._subplots.AxesSubplot at 0x7fe68d7f9150>"
            ]
          },
          "metadata": {},
          "execution_count": 24
        },
        {
          "output_type": "display_data",
          "data": {
            "image/png": "[encoded data removed]",
            "text/plain": [
              "<Figure size 504x504 with 1 Axes>"
            ]
          },
          "metadata": {}
        }
      ]
    },
    {
      "cell_type": "code",
      "metadata": {
        "id": "L2R3O3bDN33D",
        "outputId": "41b2a170-8a11-402b-b083-b6c646c805d9",
        "colab": {
          "base_uri": "https://localhost:8080/",
          "height": 459
        }
      },
      "source": [
        "plt.figure(figsize=(7,7))\n",
        "sns.scatterplot(data=unidas, x=\"populacao\", y=\"gastos_por_habit_Jun/21\")"
      ],
      "execution_count": 25,
      "outputs": [
        {
          "output_type": "execute_result",
          "data": {
            "text/plain": [
              "<matplotlib.axes._subplots.AxesSubplot at 0x7fe68d777090>"
            ]
          },
          "metadata": {},
          "execution_count": 25
        },
        {
          "output_type": "display_data",
          "data": {
            "image/png": "[encoded data removed]",
            "text/plain": [
              "<Figure size 504x504 with 1 Axes>"
            ]
          },
          "metadata": {}
        }
      ]
    },
    {
      "cell_type": "code",
      "metadata": {
        "id": "hQrF3zbkOaKz",
        "outputId": "832f02bf-c155-4b7f-fe78-725aba7c6349",
        "colab": {
          "base_uri": "https://localhost:8080/",
          "height": 206
        }
      },
      "source": [
        "baseMeses = unidas.melt(id_vars=\"populacao\", value_vars=[\"Gastos_Jun/21\",\"Gastos_Jul/21\"])\n",
        "baseMeses.head()"
      ],
      "execution_count": 26,
      "outputs": [
        {
          "output_type": "execute_result",
          "data": {
            "text/html": [
              "<div>\n",
              "<style scoped>\n",
              "    .dataframe tbody tr th:only-of-type {\n",
              "        vertical-align: middle;\n",
              "    }\n",
              "\n",
              "    .dataframe tbody tr th {\n",
              "        vertical-align: top;\n",
              "    }\n",
              "\n",
              "    .dataframe thead th {\n",
              "        text-align: right;\n",
              "    }\n",
              "</style>\n",
              "<table border=\"1\" class=\"dataframe\">\n",
              "  <thead>\n",
              "    <tr style=\"text-align: right;\">\n",
              "      <th></th>\n",
              "      <th>populacao</th>\n",
              "      <th>variable</th>\n",
              "      <th>value</th>\n",
              "    </tr>\n",
              "  </thead>\n",
              "  <tbody>\n",
              "    <tr>\n",
              "      <th>0</th>\n",
              "      <td>877613</td>\n",
              "      <td>Gastos_Jun/21</td>\n",
              "      <td>1,986,903.84</td>\n",
              "    </tr>\n",
              "    <tr>\n",
              "      <th>1</th>\n",
              "      <td>906876</td>\n",
              "      <td>Gastos_Jun/21</td>\n",
              "      <td>3,458,187.11</td>\n",
              "    </tr>\n",
              "    <tr>\n",
              "      <th>2</th>\n",
              "      <td>1607363</td>\n",
              "      <td>Gastos_Jun/21</td>\n",
              "      <td>6,308,189.85</td>\n",
              "    </tr>\n",
              "    <tr>\n",
              "      <th>3</th>\n",
              "      <td>2338474</td>\n",
              "      <td>Gastos_Jun/21</td>\n",
              "      <td>11,012,790.28</td>\n",
              "    </tr>\n",
              "    <tr>\n",
              "      <th>4</th>\n",
              "      <td>8777124</td>\n",
              "      <td>Gastos_Jun/21</td>\n",
              "      <td>41,805,551.16</td>\n",
              "    </tr>\n",
              "  </tbody>\n",
              "</table>\n",
              "</div>"
            ],
            "text/plain": [
              "   populacao       variable         value\n",
              "0     877613  Gastos_Jun/21  1,986,903.84\n",
              "1     906876  Gastos_Jun/21  3,458,187.11\n",
              "2    1607363  Gastos_Jun/21  6,308,189.85\n",
              "3    2338474  Gastos_Jun/21 11,012,790.28\n",
              "4    8777124  Gastos_Jun/21 41,805,551.16"
            ]
          },
          "metadata": {},
          "execution_count": 26
        }
      ]
    },
    {
      "cell_type": "code",
      "metadata": {
        "id": "MXM0Po_AOt0H",
        "outputId": "dba226a4-ab4e-4b44-e73b-6a343b563a32",
        "colab": {
          "base_uri": "https://localhost:8080/",
          "height": 471
        }
      },
      "source": [
        "plt.figure(figsize=(7,7))\n",
        "sns.scatterplot(data=baseMeses, x=\"populacao\", y=\"value\", hue=\"variable\")"
      ],
      "execution_count": 27,
      "outputs": [
        {
          "output_type": "execute_result",
          "data": {
            "text/plain": [
              "<matplotlib.axes._subplots.AxesSubplot at 0x7fe68e2459d0>"
            ]
          },
          "metadata": {},
          "execution_count": 27
        },
        {
          "output_type": "display_data",
          "data": {
            "image/png": "[encoded data removed]",
            "text/plain": [
              "<Figure size 504x504 with 1 Axes>"
            ]
          },
          "metadata": {}
        }
      ]
    },
    {
      "cell_type": "code",
      "metadata": {
        "id": "j4UBO-yARIhl",
        "outputId": "7b9909ca-0f9d-4ebe-f6c8-4206e5b1af50",
        "colab": {
          "base_uri": "https://localhost:8080/",
          "height": 431
        }
      },
      "source": [
        "plt.figure(figsize=(14,6))\n",
        "ax = sns.lineplot(data=base_usavel.T, x=base_usavel.T.index, y=\"São Paulo\")\n",
        "escalaY = 1e6\n",
        "ax.yaxis.set_major_formatter(ticker.FuncFormatter(lambda x, pos: '{:,.1f}'.format(x/escalaY)))\n",
        "plt.xticks(rotation=30)\n",
        "plt.ylim(0,500*escalaY)\n",
        "ax.xaxis.set_major_locator(ticker.IndexLocator(base=12, offset=0))\n",
        "plt.ylabel(\"Valor - R$ MM\", fontweight=\"bold\", color=\"white\", fontsize=13)\n",
        "plt.xlabel(\"Mês de atendimento\", fontweight=\"bold\", color=\"white\", fontsize=13)\n",
        "plt.grid(linestyle=\":\")\n",
        "plt.title(\"Gastos dos procedimentos do SUS para São Paulo\", fontweight=\"bold\", color=\"white\", fontsize=15)\n",
        "plt.show()"
      ],
      "execution_count": 30,
      "outputs": [
        {
          "output_type": "display_data",
          "data": {
            "image/png": "[encoded data removed]",
            "text/plain": [
              "<Figure size 1008x432 with 1 Axes>"
            ]
          },
          "metadata": {}
        }
      ]
    },
    {
      "cell_type": "code",
      "metadata": {
        "id": "TaqZspz9OnQm"
      },
      "source": [
        ""
      ],
      "execution_count": 28,
      "outputs": []
    }
  ]
}